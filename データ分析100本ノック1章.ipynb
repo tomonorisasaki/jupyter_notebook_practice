{
  "nbformat": 4,
  "nbformat_minor": 0,
  "metadata": {
    "colab": {
      "name": "データ分析100本ノック1章.ipynb",
      "provenance": [],
      "collapsed_sections": [],
      "toc_visible": true,
      "authorship_tag": "ABX9TyOKzW4tYXJ7tu7PwR1aJvcX",
      "include_colab_link": true
    },
    "kernelspec": {
      "name": "python3",
      "display_name": "Python 3"
    }
  },
  "cells": [
    {
      "cell_type": "markdown",
      "metadata": {
        "id": "view-in-github",
        "colab_type": "text"
      },
      "source": [
        "<a href=\"https://colab.research.google.com/github/tomonorisasaki/jupyter_notebook_practice/blob/master/%E3%83%87%E3%83%BC%E3%82%BF%E5%88%86%E6%9E%90100%E6%9C%AC%E3%83%8E%E3%83%83%E3%82%AF1%E7%AB%A0.ipynb\" target=\"_parent\"><img src=\"https://colab.research.google.com/assets/colab-badge.svg\" alt=\"Open In Colab\"/></a>"
      ]
    },
    {
      "cell_type": "code",
      "metadata": {
        "id": "GCUg0ptiazDA",
        "colab_type": "code",
        "colab": {}
      },
      "source": [
        "import pandas as pd\n"
      ],
      "execution_count": 0,
      "outputs": []
    },
    {
      "cell_type": "code",
      "metadata": {
        "id": "quB_mwaob1AJ",
        "colab_type": "code",
        "colab": {}
      },
      "source": [
        "customer_master = pd.read_csv('customer_master.csv')"
      ],
      "execution_count": 0,
      "outputs": []
    },
    {
      "cell_type": "code",
      "metadata": {
        "id": "eVyOkMvtcGid",
        "colab_type": "code",
        "colab": {
          "base_uri": "https://localhost:8080/",
          "height": 309
        },
        "outputId": "8ad93a4d-67fc-45d0-d327-3e92e906949e"
      },
      "source": [
        "customer_master.head()"
      ],
      "execution_count": 8,
      "outputs": [
        {
          "output_type": "execute_result",
          "data": {
            "text/html": [
              "<div>\n",
              "<style scoped>\n",
              "    .dataframe tbody tr th:only-of-type {\n",
              "        vertical-align: middle;\n",
              "    }\n",
              "\n",
              "    .dataframe tbody tr th {\n",
              "        vertical-align: top;\n",
              "    }\n",
              "\n",
              "    .dataframe thead th {\n",
              "        text-align: right;\n",
              "    }\n",
              "</style>\n",
              "<table border=\"1\" class=\"dataframe\">\n",
              "  <thead>\n",
              "    <tr style=\"text-align: right;\">\n",
              "      <th></th>\n",
              "      <th>customer_id</th>\n",
              "      <th>customer_name</th>\n",
              "      <th>registration_date</th>\n",
              "      <th>customer_name_kana</th>\n",
              "      <th>email</th>\n",
              "      <th>gender</th>\n",
              "      <th>age</th>\n",
              "      <th>birth</th>\n",
              "      <th>pref</th>\n",
              "    </tr>\n",
              "  </thead>\n",
              "  <tbody>\n",
              "    <tr>\n",
              "      <th>0</th>\n",
              "      <td>IK152942</td>\n",
              "      <td>平田 裕次郎</td>\n",
              "      <td>2019-01-01 00:25:33</td>\n",
              "      <td>ひらた ゆうじろう</td>\n",
              "      <td>hirata_yuujirou@example.com</td>\n",
              "      <td>M</td>\n",
              "      <td>29</td>\n",
              "      <td>1990/6/10</td>\n",
              "      <td>石川県</td>\n",
              "    </tr>\n",
              "    <tr>\n",
              "      <th>1</th>\n",
              "      <td>TS808488</td>\n",
              "      <td>田村 詩織</td>\n",
              "      <td>2019-01-01 01:13:45</td>\n",
              "      <td>たむら しおり</td>\n",
              "      <td>tamura_shiori@example.com</td>\n",
              "      <td>F</td>\n",
              "      <td>33</td>\n",
              "      <td>1986/5/20</td>\n",
              "      <td>東京都</td>\n",
              "    </tr>\n",
              "    <tr>\n",
              "      <th>2</th>\n",
              "      <td>AS834628</td>\n",
              "      <td>久野 由樹</td>\n",
              "      <td>2019-01-01 02:00:14</td>\n",
              "      <td>ひさの ゆき</td>\n",
              "      <td>hisano_yuki@example.com</td>\n",
              "      <td>F</td>\n",
              "      <td>63</td>\n",
              "      <td>1956/1/2</td>\n",
              "      <td>茨城県</td>\n",
              "    </tr>\n",
              "    <tr>\n",
              "      <th>3</th>\n",
              "      <td>AS345469</td>\n",
              "      <td>鶴岡 薫</td>\n",
              "      <td>2019-01-01 04:48:22</td>\n",
              "      <td>つるおか かおる</td>\n",
              "      <td>tsuruoka_kaoru@example.com</td>\n",
              "      <td>M</td>\n",
              "      <td>74</td>\n",
              "      <td>1945/3/25</td>\n",
              "      <td>東京都</td>\n",
              "    </tr>\n",
              "    <tr>\n",
              "      <th>4</th>\n",
              "      <td>GD892565</td>\n",
              "      <td>大内 高史</td>\n",
              "      <td>2019-01-01 04:54:51</td>\n",
              "      <td>おおうち たかし</td>\n",
              "      <td>oouchi_takashi@example.com</td>\n",
              "      <td>M</td>\n",
              "      <td>54</td>\n",
              "      <td>1965/8/5</td>\n",
              "      <td>千葉県</td>\n",
              "    </tr>\n",
              "  </tbody>\n",
              "</table>\n",
              "</div>"
            ],
            "text/plain": [
              "  customer_id customer_name    registration_date  ... age      birth pref\n",
              "0    IK152942        平田 裕次郎  2019-01-01 00:25:33  ...  29  1990/6/10  石川県\n",
              "1    TS808488         田村 詩織  2019-01-01 01:13:45  ...  33  1986/5/20  東京都\n",
              "2    AS834628         久野 由樹  2019-01-01 02:00:14  ...  63   1956/1/2  茨城県\n",
              "3    AS345469          鶴岡 薫  2019-01-01 04:48:22  ...  74  1945/3/25  東京都\n",
              "4    GD892565         大内 高史  2019-01-01 04:54:51  ...  54   1965/8/5  千葉県\n",
              "\n",
              "[5 rows x 9 columns]"
            ]
          },
          "metadata": {
            "tags": []
          },
          "execution_count": 8
        }
      ]
    }
  ]
}