{
  "nbformat": 4,
  "nbformat_minor": 0,
  "metadata": {
    "colab": {
      "name": "format関数練習.ipynb",
      "provenance": [],
      "authorship_tag": "ABX9TyNGrw2OY/PDEGuwBGzHYWke",
      "include_colab_link": true
    },
    "kernelspec": {
      "name": "python3",
      "display_name": "Python 3"
    }
  },
  "cells": [
    {
      "cell_type": "markdown",
      "metadata": {
        "id": "view-in-github",
        "colab_type": "text"
      },
      "source": [
        "<a href=\"https://colab.research.google.com/github/tomonorisasaki/jupyter_notebook_practice/blob/master/format%E9%96%A2%E6%95%B0%E7%B7%B4%E7%BF%92.ipynb\" target=\"_parent\"><img src=\"https://colab.research.google.com/assets/colab-badge.svg\" alt=\"Open In Colab\"/></a>"
      ]
    },
    {
      "cell_type": "code",
      "metadata": {
        "id": "wquMk5Guuure",
        "colab_type": "code",
        "colab": {
          "base_uri": "https://localhost:8080/",
          "height": 34
        },
        "outputId": "480d113a-f930-40ee-9b35-01b3a03b2ac7"
      },
      "source": [
        "val1 = '家賃'\n",
        "val2 = '高くて'\n",
        "val3 = '７００００'\n",
        "print('{0}は {1} が {2} 家賃 {3} でも狭い '.format('東京',val1,val2,val3,))"
      ],
      "execution_count": 3,
      "outputs": [
        {
          "output_type": "stream",
          "text": [
            "東京は 家賃 が 高くて 家賃 ７００００ でも狭い \n"
          ],
          "name": "stdout"
        }
      ]
    }
  ]
}